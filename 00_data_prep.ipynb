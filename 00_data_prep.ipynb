{
 "cells": [
  {
   "cell_type": "markdown",
   "id": "959cc816-aed1-4f47-a2df-e90557854cdf",
   "metadata": {},
   "source": [
    "# Prepare Chicago Taxi Trips dataset"
   ]
  },
  {
   "cell_type": "markdown",
   "id": "3a9d1c53-05c3-4e4d-b543-8eb52f8f4561",
   "metadata": {},
   "source": [
    "We will use data from the public [Chicago Taxi Trips](https://console.cloud.google.com/marketplace/product/city-of-chicago-public-data/chicago-taxi-trips) dataset \n",
    "* includes taxi trips from 2013 to the present, reported to the City of Chicago in its role as a regulatory agency. \n",
    "* To protect the privacy of the drivers and users of the cab at the same time and allow the aggregator to analyze the data, the Taxi ID is kept consistent for any given taxi medallion number but does not show the number, Census Tracts are suppressed in some cases, and times are rounded to the nearest 15 minutes.\n",
    "\n",
    "> For more information, check out [Chicago Taxi Trips on Marketplace](https://console.cloud.google.com/marketplace/product/city-of-chicago-public-data/chicago-taxi-trips)"
   ]
  },
  {
   "cell_type": "markdown",
   "id": "8625c679-918b-4294-bed5-7a6671e99717",
   "metadata": {},
   "source": [
    "### imports "
   ]
  },
  {
   "cell_type": "code",
   "execution_count": null,
   "id": "8acad76c-d89d-49b1-ae8c-e686d2c81408",
   "metadata": {},
   "outputs": [],
   "source": [
    "from google.cloud import bigquery\n",
    "from google.cloud import storage\n",
    "\n",
    "print(f'bigquery SDK version: {bigquery.__version__}')"
   ]
  },
  {
   "cell_type": "code",
   "execution_count": null,
   "id": "622ed0cb-4952-454c-af1d-34c5ed728cda",
   "metadata": {},
   "outputs": [],
   "source": [
    "PROJECT_ID = \"hybrid-vertex\"\n",
    "REGION = \"us-central1\"\n",
    "\n",
    "# Set the project id\n",
    "! gcloud config set project {PROJECT_ID}"
   ]
  },
  {
   "cell_type": "code",
   "execution_count": null,
   "id": "4e9810ef-5db1-42ac-9601-3460f5276fd0",
   "metadata": {},
   "outputs": [],
   "source": [
    "bq_client = bigquery.Client(\n",
    "    project=PROJECT_ID,\n",
    "    location=REGION\n",
    ")"
   ]
  },
  {
   "cell_type": "markdown",
   "id": "f1d8c4d1-5614-462a-9e36-f4d6596fa719",
   "metadata": {},
   "source": [
    "## Create BQ dataset"
   ]
  },
  {
   "cell_type": "code",
   "execution_count": null,
   "id": "5f6887bf-df0a-4084-bdeb-c66e7996ec85",
   "metadata": {},
   "outputs": [],
   "source": [
    "BQ_DATASET_NAME = \"mlops\"\n",
    "bq_client.query(f'CREATE SCHEMA IF NOT EXISTS `{PROJECT_ID}.{BQ_DATASET_NAME}`').result()"
   ]
  },
  {
   "cell_type": "markdown",
   "id": "24407b24-21a2-4b30-abd4-7827f48b4811",
   "metadata": {},
   "source": [
    "## Create BQ table"
   ]
  },
  {
   "cell_type": "code",
   "execution_count": null,
   "id": "88702665-8faf-42a9-9154-bf99d7a23166",
   "metadata": {},
   "outputs": [],
   "source": [
    "QUERY = f\"\"\"\n",
    "CREATE OR REPLACE TABLE `{PROJECT_ID}.mlops.chicago`\n",
    "AS (\n",
    "    WITH\n",
    "      taxitrips AS (\n",
    "      SELECT\n",
    "        trip_start_timestamp,\n",
    "        trip_end_timestamp,\n",
    "        trip_seconds,\n",
    "        trip_miles,\n",
    "        payment_type,\n",
    "        pickup_longitude,\n",
    "        pickup_latitude,\n",
    "        dropoff_longitude,\n",
    "        dropoff_latitude,\n",
    "        tips,\n",
    "        tolls,\n",
    "        fare,\n",
    "        pickup_community_area,\n",
    "        dropoff_community_area,\n",
    "        company,\n",
    "        unique_key\n",
    "      FROM\n",
    "        `{PROJECT_ID}.mlops.taxi_trips`\n",
    "      WHERE pickup_longitude IS NOT NULL\n",
    "      AND pickup_latitude IS NOT NULL\n",
    "      AND dropoff_longitude IS NOT NULL\n",
    "      AND dropoff_latitude IS NOT NULL\n",
    "      AND trip_miles > 0\n",
    "      AND trip_seconds > 0\n",
    "      AND fare > 0\n",
    "      AND EXTRACT(YEAR FROM trip_start_timestamp) = 2019\n",
    "    )\n",
    "\n",
    "    SELECT\n",
    "      trip_start_timestamp,\n",
    "      EXTRACT(MONTH from trip_start_timestamp) as trip_month,\n",
    "      EXTRACT(DAY from trip_start_timestamp) as trip_day,\n",
    "      EXTRACT(DAYOFWEEK from trip_start_timestamp) as trip_day_of_week,\n",
    "      EXTRACT(HOUR from trip_start_timestamp) as trip_hour,\n",
    "      trip_seconds,\n",
    "      trip_miles,\n",
    "      payment_type,\n",
    "      ST_AsText(\n",
    "          ST_SnapToGrid(ST_GeogPoint(pickup_longitude, pickup_latitude), 0.1)\n",
    "      ) AS pickup_grid,\n",
    "      ST_AsText(\n",
    "          ST_SnapToGrid(ST_GeogPoint(dropoff_longitude, dropoff_latitude), 0.1)\n",
    "      ) AS dropoff_grid,\n",
    "      ST_Distance(\n",
    "          ST_GeogPoint(pickup_longitude, pickup_latitude),\n",
    "          ST_GeogPoint(dropoff_longitude, dropoff_latitude)\n",
    "      ) AS euclidean,\n",
    "      CONCAT(\n",
    "          ST_AsText(ST_SnapToGrid(ST_GeogPoint(pickup_longitude,\n",
    "              pickup_latitude), 0.1)),\n",
    "          ST_AsText(ST_SnapToGrid(ST_GeogPoint(dropoff_longitude,\n",
    "              dropoff_latitude), 0.1))\n",
    "      ) AS loc_cross,\n",
    "      IF((tips/fare >= 0.2), 1, 0) AS tip_bin,\n",
    "      tips,\n",
    "      tolls,\n",
    "      fare,\n",
    "      pickup_longitude,\n",
    "      pickup_latitude,\n",
    "      dropoff_longitude,\n",
    "      dropoff_latitude,\n",
    "      pickup_community_area,\n",
    "      dropoff_community_area,\n",
    "      company,\n",
    "      unique_key,\n",
    "      trip_end_timestamp\n",
    "    FROM\n",
    "      taxitrips\n",
    "    LIMIT 1000000\n",
    ")\n",
    "\"\"\"\n",
    "# print to inspect\n",
    "print(QUERY)"
   ]
  },
  {
   "cell_type": "code",
   "execution_count": null,
   "id": "fdd506b7-a2de-4688-8189-a464cc6bf0d6",
   "metadata": {},
   "outputs": [],
   "source": [
    "# # uncomment to submit\n",
    "job = bq_client.query(query = QUERY)\n",
    "job.result()\n",
    "(job.ended-job.started).total_seconds()"
   ]
  }
 ],
 "metadata": {
  "environment": {
   "kernel": "conda-base-py",
   "name": "workbench-notebooks.m125",
   "type": "gcloud",
   "uri": "us-docker.pkg.dev/deeplearning-platform-release/gcr.io/workbench-notebooks:m125"
  },
  "kernelspec": {
   "display_name": "Python 3 (ipykernel) (Local)",
   "language": "python",
   "name": "conda-base-py"
  },
  "language_info": {
   "codemirror_mode": {
    "name": "ipython",
    "version": 3
   },
   "file_extension": ".py",
   "mimetype": "text/x-python",
   "name": "python",
   "nbconvert_exporter": "python",
   "pygments_lexer": "ipython3",
   "version": "3.10.15"
  }
 },
 "nbformat": 4,
 "nbformat_minor": 5
}
